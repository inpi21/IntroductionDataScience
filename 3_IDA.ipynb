{
  "nbformat": 4,
  "nbformat_minor": 0,
  "metadata": {
    "colab": {
      "name": "3. IDA.ipynb",
      "provenance": [],
      "authorship_tag": "ABX9TyNPCj3bVtK5S5/l1ZJXINaK",
      "include_colab_link": true
    },
    "kernelspec": {
      "name": "python3",
      "display_name": "Python 3"
    },
    "language_info": {
      "name": "python"
    }
  },
  "cells": [
    {
      "cell_type": "markdown",
      "metadata": {
        "id": "view-in-github",
        "colab_type": "text"
      },
      "source": [
        "<a href=\"https://colab.research.google.com/github/inpi21/IntroductionDataScience/blob/main/3_IDA.ipynb\" target=\"_parent\"><img src=\"https://colab.research.google.com/assets/colab-badge.svg\" alt=\"Open In Colab\"/></a>"
      ]
    },
    {
      "cell_type": "markdown",
      "metadata": {
        "id": "PDQQgZOideGC"
      },
      "source": [
        "# ![logo UNAL 2.png](data:image/png;base64,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)\n"
      ]
    },
    {
      "cell_type": "markdown",
      "metadata": {
        "id": "T7T54xsSejW2"
      },
      "source": [
        "### Maestría en Actuaría y Finanzas\n",
        "\n",
        "### Introducción a la ciencia de datos\n",
        "\n",
        "### Nataly Paez Salamanca\n",
        "---\n",
        "\n"
      ]
    },
    {
      "cell_type": "markdown",
      "metadata": {
        "id": "B_O6G3AQbmaR"
      },
      "source": [
        "#1. Configuración de meta data\n",
        "fuentes utilizadas\n",
        "preguntas de investigacion"
      ]
    },
    {
      "cell_type": "markdown",
      "metadata": {
        "id": "acpQtYfFQR03"
      },
      "source": [
        "#2. Diagrama de flujo del estudio\n",
        "definición de la poblaciónde estudio\n",
        "sujetos abordados originalmente\n",
        "sujetos que permanecieron\n",
        "sujetos que fueron excluidos debido a criterios de inclusión,\n",
        "valores imposibles,\n",
        "datos faltantes u\n",
        "otras razones.\n",
        "Visualizar en un diagrama de flujo."
      ]
    },
    {
      "cell_type": "markdown",
      "metadata": {
        "id": "iCiYAJ93U5ar"
      },
      "source": [
        "#3. Procesamiento y limpieza\n",
        "principales issues identificados y correcciones aplicadas\n",
        "% de elementod afectados x el cambio"
      ]
    },
    {
      "cell_type": "markdown",
      "metadata": {
        "id": "_kc92nuSWkb5"
      },
      "source": [
        "#4. Descripción de las distribuciones de las variables"
      ]
    },
    {
      "cell_type": "markdown",
      "metadata": {
        "id": "S01167gba3FN"
      },
      "source": [
        "#5. Desviaciones identificadas"
      ]
    }
  ]
}